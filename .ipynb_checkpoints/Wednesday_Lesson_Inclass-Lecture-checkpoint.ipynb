{
 "cells": [
  {
   "cell_type": "markdown",
   "metadata": {},
   "source": [
    "# Data Collections 2 (Dictionaries, Sets) and Importing Modules"
   ]
  },
  {
   "cell_type": "markdown",
   "metadata": {},
   "source": [
    "## Tasks Today:\n",
    "\n",
    "1) Dictionary <br>\n",
    " &nbsp;&nbsp;&nbsp;&nbsp; a) Declaring (key, value) <br>\n",
    " &nbsp;&nbsp;&nbsp;&nbsp; b) Accessing Values <br>\n",
    " &nbsp;&nbsp;&nbsp;&nbsp; ------ Exercise #1 - Print the eye color of each person in a double nested dict <br>\n",
    " &nbsp;&nbsp;&nbsp;&nbsp; c) Adding New Pairs <br>\n",
    " &nbsp;&nbsp;&nbsp;&nbsp; d) Modifying Values <br>\n",
    " &nbsp;&nbsp;&nbsp;&nbsp; e) Removing Key, Value Pairs <br>\n",
    " &nbsp;&nbsp;&nbsp;&nbsp; f) Looping a Dictionary <br>\n",
    " &nbsp;&nbsp;&nbsp;&nbsp; g) Looping Only Keys <br>\n",
    " &nbsp;&nbsp;&nbsp;&nbsp; h) Looping Only Values <br>\n",
    " &nbsp;&nbsp;&nbsp;&nbsp; ------ Exercise #2 - Create a Function that Prints All Key Value Pairs within a print .format()  <br>\n",
    " &nbsp;&nbsp;&nbsp;&nbsp; i) sorted() <br>\n",
    " &nbsp;&nbsp;&nbsp;&nbsp; j) Lists with Dictionaries <br>\n",
    " &nbsp;&nbsp;&nbsp;&nbsp; k) Dictionaries with Lists <br>\n",
    " &nbsp;&nbsp;&nbsp;&nbsp; l) Dictionaries with Dictionaries <br>\n",
    "2) Hashing & Big 'O' Notation <br>\n",
    " &nbsp;&nbsp;&nbsp;&nbsp; ------ Exercise #3 - Write a Function that asks someone's name and address, and then stores that into a dictionary, which prints all names and addresses after they're done putting information in...  <br>\n",
    "3) Dictionaries vs. Lists (over time)<br>\n",
    "4) Set <br>\n",
    " &nbsp;&nbsp;&nbsp;&nbsp; a) Declaring <br>\n",
    " &nbsp;&nbsp;&nbsp;&nbsp; b) .add() <br>\n",
    " &nbsp;&nbsp;&nbsp;&nbsp; c) .remove() <br>\n",
    " &nbsp;&nbsp;&nbsp;&nbsp; d) .union() <br>\n",
    " &nbsp;&nbsp;&nbsp;&nbsp; e) .intersection() <br>\n",
    " &nbsp;&nbsp;&nbsp;&nbsp; f) .difference() <br>\n",
    " &nbsp;&nbsp;&nbsp;&nbsp; g) Frozen Set <br>\n",
    "5) Modules <br>\n",
    " &nbsp;&nbsp;&nbsp;&nbsp; a) Importing Entire Modules <br>\n",
    " &nbsp;&nbsp;&nbsp;&nbsp; b) Importing Methods Only <br>\n",
    " &nbsp;&nbsp;&nbsp;&nbsp; c) Using the 'as' Keyword <br>\n",
    " &nbsp;&nbsp;&nbsp;&nbsp; d) Creating a Module <br>\n",
    "6) Exercises <br>\n",
    " &nbsp;&nbsp;&nbsp;&nbsp; a) Build a Shopping Cart <br>\n",
    " &nbsp;&nbsp;&nbsp;&nbsp; b) Create Your Own Module <br>"
   ]
  },
  {
   "cell_type": "markdown",
   "metadata": {},
   "source": [
    "## Dictionary <br>\n",
    "<p>A collection of data with 'key:value' pairs. Dictionaries are ordered as of Python 3.6</p>"
   ]
  },
  {
   "cell_type": "markdown",
   "metadata": {},
   "source": [
    "##### Declaring (key, value)"
   ]
  },
  {
   "cell_type": "code",
   "execution_count": 4,
   "metadata": {},
   "outputs": [],
   "source": [
    "# keys should be unique\n",
    "# can use numbers or strings\n",
    "\n",
    "d = {}\n",
    "\n",
    "d2 = {\n",
    "    'dave': \"Main Street\",\n",
    "    'sean': \"1st Street\",\n",
    "    0: \"This is a value for the key of 0\"\n",
    "}\n"
   ]
  },
  {
   "cell_type": "markdown",
   "metadata": {},
   "source": [
    "##### Accessing Values"
   ]
  },
  {
   "cell_type": "code",
   "execution_count": 3,
   "metadata": {},
   "outputs": [
    {
     "data": {
      "text/plain": [
       "'This is a value for the key of 0'"
      ]
     },
     "execution_count": 3,
     "metadata": {},
     "output_type": "execute_result"
    }
   ],
   "source": [
    "# dict[key]\n",
    "d2['dave']\n",
    "\n",
    "d2[0]"
   ]
  },
  {
   "cell_type": "markdown",
   "metadata": {},
   "source": [
    "## In-Class Exercise #1 - Print a formatted statement from the dictionary below <br>\n",
    "<p>The output should be '2018 Chevrolet Silverado'</p>"
   ]
  },
  {
   "cell_type": "code",
   "execution_count": 15,
   "metadata": {},
   "outputs": [
    {
     "name": "stdout",
     "output_type": "stream",
     "text": [
      "2018 Chevrolet Silverado\n"
     ]
    }
   ],
   "source": [
    "# use the dict below\n",
    "\n",
    "truck = {\n",
    "    'year': 2018,\n",
    "    'make': 'Chevrolet',\n",
    "    'model': 'Silverado'\n",
    "}\n",
    "print(\"{} {} {}\".format(truck['year'],truck[\"make\"],truck[\"model\"]))"
   ]
  },
  {
   "cell_type": "markdown",
   "metadata": {},
   "source": [
    "##### Adding New Pairs"
   ]
  },
  {
   "cell_type": "code",
   "execution_count": 17,
   "metadata": {},
   "outputs": [
    {
     "data": {
      "text/plain": [
       "{'dave': 'Main Street',\n",
       " 'sean': '1st Street',\n",
       " 0: 'This is a value for the key of 0',\n",
       " 'bob': '15th street',\n",
       " 'steve': '145th Golden State'}"
      ]
     },
     "execution_count": 17,
     "metadata": {},
     "output_type": "execute_result"
    }
   ],
   "source": [
    "# dict[key] = value\n",
    "d2['bob'] = \"15th street\"\n",
    "\n",
    "d2['steve'] = \"145th Golden State\"\n",
    "\n",
    "d2"
   ]
  },
  {
   "cell_type": "markdown",
   "metadata": {},
   "source": [
    "##### Modifying Values"
   ]
  },
  {
   "cell_type": "code",
   "execution_count": 18,
   "metadata": {},
   "outputs": [
    {
     "data": {
      "text/plain": [
       "{'dave': 'Main Street',\n",
       " 'sean': '1st Street',\n",
       " 0: 'This is a value for the key of 0',\n",
       " 'bob': '15th street Chicago,IL',\n",
       " 'steve': '145th Golden State'}"
      ]
     },
     "execution_count": 18,
     "metadata": {},
     "output_type": "execute_result"
    }
   ],
   "source": [
    "# dict[key] = value\n",
    "test = d2[\"bob\"]\n",
    "\n",
    "d2[\"bob\"] = test + \" Chicago,IL\"\n",
    "\n",
    "d2\n"
   ]
  },
  {
   "cell_type": "markdown",
   "metadata": {},
   "source": [
    "##### Removing Key, Value Pairs"
   ]
  },
  {
   "cell_type": "code",
   "execution_count": 19,
   "metadata": {},
   "outputs": [
    {
     "data": {
      "text/plain": [
       "{'dave': 'Main Street',\n",
       " 'sean': '1st Street',\n",
       " 0: 'This is a value for the key of 0',\n",
       " 'steve': '145th Golden State'}"
      ]
     },
     "execution_count": 19,
     "metadata": {},
     "output_type": "execute_result"
    }
   ],
   "source": [
    "# del dict[key]\n",
    "\n",
    "del d2[\"bob\"]\n",
    "\n",
    "d2\n"
   ]
  },
  {
   "cell_type": "markdown",
   "metadata": {},
   "source": [
    "##### Looping a Dictionary"
   ]
  },
  {
   "cell_type": "code",
   "execution_count": 20,
   "metadata": {},
   "outputs": [
    {
     "name": "stdout",
     "output_type": "stream",
     "text": [
      "dave Main Street\n",
      "sean 1st Street\n",
      "0 This is a value for the key of 0\n",
      "steve 145th Golden State\n"
     ]
    }
   ],
   "source": [
    "# .items()\n",
    "# a, b, c = 1, 2, 3\n",
    "# print(a)\n",
    "# print(b)\n",
    "# print(c)\n",
    "\n",
    "for key, value in d2.items():\n",
    "    print(key,value)\n"
   ]
  },
  {
   "cell_type": "markdown",
   "metadata": {},
   "source": [
    "##### Looping Only Keys"
   ]
  },
  {
   "cell_type": "code",
   "execution_count": 21,
   "metadata": {},
   "outputs": [
    {
     "name": "stdout",
     "output_type": "stream",
     "text": [
      "dave\n",
      "sean\n",
      "0\n",
      "steve\n"
     ]
    }
   ],
   "source": [
    "# .keys()\n",
    "for key in d2.keys():\n",
    "    print(key)\n"
   ]
  },
  {
   "cell_type": "markdown",
   "metadata": {},
   "source": [
    "##### Looping Only Values"
   ]
  },
  {
   "cell_type": "code",
   "execution_count": 22,
   "metadata": {},
   "outputs": [
    {
     "name": "stdout",
     "output_type": "stream",
     "text": [
      "Main Street\n",
      "1st Street\n",
      "This is a value for the key of 0\n",
      "145th Golden State\n"
     ]
    }
   ],
   "source": [
    "# .values()\n",
    "for value in d2.values():\n",
    "    print(value)\n"
   ]
  },
  {
   "cell_type": "markdown",
   "metadata": {},
   "source": [
    "## In-Class Exercise #2 - Create a Function that Prints All Key Value Pairs within a print .format() <br>\n",
    "<p><b>Output should be:</b><br>\n",
    "Max has blue eyes<br>\n",
    "Lilly has brown eyes<br>\n",
    "Barney has blue eyes<br>\n",
    "etc.\n",
    "</p>"
   ]
  },
  {
   "cell_type": "code",
   "execution_count": 37,
   "metadata": {},
   "outputs": [
    {
     "name": "stdout",
     "output_type": "stream",
     "text": [
      "Max has blue eyes\n",
      "Lilly has brown eyes\n",
      "Barney has blue eyes\n",
      "Larney has brown eyes\n",
      "Ted has purple eyes\n"
     ]
    }
   ],
   "source": [
    "# use the dict below\n",
    "\n",
    "people = {\n",
    "    'Max': 'blue',\n",
    "    'Lilly': 'brown',\n",
    "    'Barney': 'blue',\n",
    "    'Larney': 'brown',\n",
    "    'Ted': 'purple'\n",
    "}\n",
    "\n",
    "def printInfo(dict_1):\n",
    "    for key, value in dict_1.items():\n",
    "        print(\"{} has {} eyes\".format(key,value))\n",
    "\n",
    "printInfo(people)"
   ]
  },
  {
   "cell_type": "markdown",
   "metadata": {},
   "source": [
    "##### sorted()"
   ]
  },
  {
   "cell_type": "code",
   "execution_count": 38,
   "metadata": {},
   "outputs": [
    {
     "data": {
      "text/plain": [
       "[('Barney', 'blue'),\n",
       " ('Larney', 'brown'),\n",
       " ('Lilly', 'brown'),\n",
       " ('Max', 'blue'),\n",
       " ('Ted', 'purple')]"
      ]
     },
     "execution_count": 38,
     "metadata": {},
     "output_type": "execute_result"
    }
   ],
   "source": [
    "# sorts variables in order\n",
    "# sorted(dict.values()) or dict.keys() or dict.items()\n",
    "\n",
    "\n",
    "\n",
    "sorted(people.items())"
   ]
  },
  {
   "cell_type": "markdown",
   "metadata": {},
   "source": [
    "##### List with Dictionaries"
   ]
  },
  {
   "cell_type": "code",
   "execution_count": 39,
   "metadata": {},
   "outputs": [
    {
     "data": {
      "text/plain": [
       "'purple'"
      ]
     },
     "execution_count": 39,
     "metadata": {},
     "output_type": "execute_result"
    }
   ],
   "source": [
    "names = [\n",
    "    \"Dave\",\n",
    "    \"Smith\",\n",
    "    \"John\",\n",
    "    {\n",
    "        'color':'purple'\n",
    "    }\n",
    "]\n",
    "\n",
    "names[3]['color']"
   ]
  },
  {
   "cell_type": "markdown",
   "metadata": {},
   "source": [
    "##### Dictionaries with Lists"
   ]
  },
  {
   "cell_type": "code",
   "execution_count": 40,
   "metadata": {},
   "outputs": [
    {
     "data": {
      "text/plain": [
       "'Smith'"
      ]
     },
     "execution_count": 40,
     "metadata": {},
     "output_type": "execute_result"
    }
   ],
   "source": [
    "# be careful when using numbers as keys in dictionaries, don't confuse them with indexes\n",
    "dict_2 = {\n",
    "    'list1': [54, 7,\"john\"],\n",
    "    2:['smith']\n",
    "}\n",
    "\n",
    "dict_2[2][0].title()"
   ]
  },
  {
   "cell_type": "markdown",
   "metadata": {},
   "source": [
    "##### Dictionaries with Dictionaries"
   ]
  },
  {
   "cell_type": "code",
   "execution_count": 41,
   "metadata": {},
   "outputs": [
    {
     "data": {
      "text/plain": [
       "'3.99'"
      ]
     },
     "execution_count": 41,
     "metadata": {},
     "output_type": "execute_result"
    }
   ],
   "source": [
    "# to get values, must traverse through keys\n",
    "dict_4 = {\n",
    "    \"ice_cream\":{\n",
    "        \"CHO\":\"2.99\",\n",
    "        \"VA\":\"3.99\"\n",
    "    }\n",
    "}\n",
    "\n",
    "dict_4[\"ice_cream\"][\"VA\"]\n"
   ]
  },
  {
   "cell_type": "markdown",
   "metadata": {},
   "source": [
    "## Using Python's Hashing Function"
   ]
  },
  {
   "cell_type": "code",
   "execution_count": 42,
   "metadata": {},
   "outputs": [
    {
     "name": "stdout",
     "output_type": "stream",
     "text": [
      "6334891746133321970\n",
      "-9044624204089947777\n",
      "6334891746133321970\n",
      "6334891746133321970\n"
     ]
    }
   ],
   "source": [
    "# hash(var)\n",
    "\n",
    "a = 'Bo'\n",
    "b = 'Bob'\n",
    "c = 'Bo'\n",
    "d = a\n",
    "\n",
    "\n",
    "print(hash(a))\n",
    "print(hash(b))\n",
    "print(hash(c))\n",
    "print(hash(d))"
   ]
  },
  {
   "cell_type": "markdown",
   "metadata": {},
   "source": [
    "# Constant Time O(1)\n",
    "\n",
    "<img src=\"https://cooervo.github.io/Algorithms-DataStructures-BigONotation/images/graphs/constant.svg\">"
   ]
  },
  {
   "cell_type": "code",
   "execution_count": null,
   "metadata": {},
   "outputs": [],
   "source": [
    "#Example of Constant Time O(1)\n",
    "\n",
    "# This runtime will stay the same, no matter the amount of items\n",
    "def constant_algo(items):\n",
    "    result = items[2] * items[2]\n",
    "    print (result)\n",
    "\n",
    "constant_algo([4, 5, 6, 8])"
   ]
  },
  {
   "cell_type": "markdown",
   "metadata": {},
   "source": [
    "# Big O Notation - Time & Space Complexity\n",
    "\n",
    "Big O Notation is the language we use when talking about how long an algorithm(function) takes to run.\n",
    "\n",
    "The most popular runtimes as explained in Big O Notation are (In Order of Speed): <br>\n",
    "\n",
    "| Name   |      Big O      |\n",
    "|----------|:-------------:|\n",
    "| Constant |  O(1) |\n",
    "| Logarithmic | O(log(n)) |\n",
    "| Linear |    O(n)   |\n",
    "|Linear-Logarithmic| O(nlog(n))|\n",
    "| Quadratic | O(n^2) |\n",
    "| Cubic | O(n^3) |\n",
    "| Exponential | O(2^n) |\n",
    "\n"
   ]
  },
  {
   "cell_type": "markdown",
   "metadata": {},
   "source": [
    "### In order to best explain Logorithmic time, it is best to use a popular algorithm called `Binary Search`.\n",
    "\n",
    "### Here's an example:\n",
    "<img src=\"https://www.geeksforgeeks.org/wp-content/uploads/Binary-Search.png\">\n",
    "\n",
    "### This algorithm essentially halves the input that it is given each time a cycle is made. Here's a close look at the code:"
   ]
  },
  {
   "cell_type": "code",
   "execution_count": 43,
   "metadata": {},
   "outputs": [
    {
     "data": {
      "text/plain": [
       "'The index is...1'"
      ]
     },
     "execution_count": 43,
     "metadata": {},
     "output_type": "execute_result"
    }
   ],
   "source": [
    "# Binary Search \n",
    "\n",
    "# Logarithmic\n",
    "# The runtime is O(log(n)) | This is known as a divide and con\n",
    "\n",
    "def binarySearch(array,target):\n",
    "    return binarySearchHelperFunc(array,target,0,len(array) - 1)\n",
    "\n",
    "def binarySearchHelperFunc(array,target,left,right):\n",
    "    while left <= right:\n",
    "        middle = (left + right) // 2\n",
    "        potentialMatch = array[middle]\n",
    "        if target == potentialMatch:\n",
    "            return \"The index is...{}\".format(middle)\n",
    "        elif target < potentialMatch:\n",
    "            right = middle - 1\n",
    "        else:\n",
    "            left = middle + 1\n",
    "    return -1\n",
    "\n",
    "binarySearch([1,5,23,111],5)"
   ]
  },
  {
   "cell_type": "markdown",
   "metadata": {},
   "source": [
    "### Here's another graph that shows the difference between Linear O(n) and Binary Search which is O(log(n)):\n",
    "\n",
    "<img src=\"data:image/png;base64,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\">"
   ]
  },
  {
   "cell_type": "code",
   "execution_count": 44,
   "metadata": {},
   "outputs": [
    {
     "name": "stdout",
     "output_type": "stream",
     "text": [
      "4\n",
      "5\n",
      "6\n",
      "8\n"
     ]
    }
   ],
   "source": [
    "# Example of Linear Time: O(n)\n",
    "\n",
    "# This runtime will increase, as the number of items increases\n",
    "\n",
    "def linear_algo(items):\n",
    "    for item in items:\n",
    "        print(item)\n",
    "\n",
    "linear_algo([4, 5, 6, 8])"
   ]
  },
  {
   "cell_type": "code",
   "execution_count": null,
   "metadata": {},
   "outputs": [],
   "source": [
    "# Example of Quadratic Time : O(n^2)\n",
    "\n",
    "# A function is known as quadratic if it requires us to complete two nested loops\n",
    "# And iterate over items in the loop multiple times.\n",
    "\n",
    "def quadratic_algo(items):\n",
    "    for item in items:\n",
    "        for item2 in items:\n",
    "            print(item, ' ' ,item)\n",
    "\n",
    "quadratic_algo([4, 5, 6, 8])"
   ]
  },
  {
   "cell_type": "markdown",
   "metadata": {},
   "source": [
    "## Dictionaries vs. Lists (over time) Example of RUNTIME\n",
    "### When inputting values in a Dictionary vs List"
   ]
  },
  {
   "cell_type": "code",
   "execution_count": 62,
   "metadata": {},
   "outputs": [],
   "source": [
    "import time\n",
    "\n",
    "\n",
    "# generate fake dictionary\n",
    "d = {}\n",
    "\n",
    "for i in range(10000000):\n",
    "    d[i] = 'value'\n",
    "    \n",
    "\n",
    "# generate fake list\n",
    "big_list = [x for x in range(10000000)]"
   ]
  },
  {
   "cell_type": "code",
   "execution_count": 46,
   "metadata": {},
   "outputs": [
    {
     "name": "stdout",
     "output_type": "stream",
     "text": [
      "value\n",
      "Elapsed time for dictionary: 0.00034308433532714844\n",
      "9999999\n",
      "Elapsed time for list: 0.9045369625091553\n"
     ]
    }
   ],
   "source": [
    "# tracking time for dictionary\n",
    "start_time = time.time()\n",
    "\n",
    "print(d[9999999])\n",
    "\n",
    "end_time = time.time() - start_time\n",
    "\n",
    "print('Elapsed time for dictionary: {}'.format(end_time))\n",
    "\n",
    "\n",
    "# tracking time for list\n",
    "start_time = time.time()\n",
    "\n",
    "for i in range(len(big_list)):\n",
    "    if i == 9999999:\n",
    "        print(i)\n",
    "\n",
    "end_time = time.time() - start_time\n",
    "\n",
    "print('Elapsed time for list: {}'.format(end_time))"
   ]
  },
  {
   "cell_type": "markdown",
   "metadata": {},
   "source": [
    "## In-Class Exercise #3 - Write a Function that asks someone's name and address, and then stores that into a dictionary, and continues to do so until they choose to 'quit'. Once they quit, the program should print all names and addresses. <br>\n",
    "<p>\n",
    "<b>Proper steps:</b><br>\n",
    "step 1: write a function that takes in information and stores it in a dictionary<br>\n",
    "step 2: define an empty dictionary to work with<br>\n",
    "step 3: create our loop, which asks the user for information until they quit<br>\n",
    "step 4: ask for the information, and store it into variables<br>\n",
    "step 5: check if the user types quit<br>\n",
    "step 5a: print out all information<br>\n",
    "step 5b: break out of the loop<br>\n",
    "step 6: if they didn't quit, add the information to the dictionary<br>\n",
    "step 7: invoke the function by calling it\n",
    "</p>"
   ]
  },
  {
   "cell_type": "code",
   "execution_count": 16,
   "metadata": {},
   "outputs": [
    {
     "name": "stdout",
     "output_type": "stream",
     "text": [
      "Enter namedebdee\n",
      "Enter addressceec\n",
      "Enter namequit\n",
      "Enter addressquit\n",
      "The address for debdee is ceec\n"
     ]
    }
   ],
   "source": [
    "\n",
    "\n",
    "def my_info():\n",
    "    \n",
    "    d={}\n",
    "    \n",
    "    while True:\n",
    "        name = input(\"Enter name\")\n",
    "        address = input (\"Enter address\")\n",
    "        \n",
    "        if name.lower() == 'quit' or address.lower() == 'quit':\n",
    "            for key, value in d.items():\n",
    "                print (\"The address for {} is {}\".format(key,value))\n",
    "            break\n",
    "        d[name] = address\n",
    "        \n",
    "my_info()\n",
    "        \n",
    "    "
   ]
  },
  {
   "cell_type": "markdown",
   "metadata": {},
   "source": [
    "## Set <br>\n",
    "<p>A Set is an unordered collection data type that is iterable (loop), mutable, and has no duplicate elements.<br>Major advantage is that it is highly optimized in checking if something is in the set, as opposed to checking if something is in a list.</p>"
   ]
  },
  {
   "cell_type": "markdown",
   "metadata": {},
   "source": [
    "##### Declaring"
   ]
  },
  {
   "cell_type": "code",
   "execution_count": 65,
   "metadata": {},
   "outputs": [
    {
     "name": "stdout",
     "output_type": "stream",
     "text": [
      "{1, 4, 6}\n"
     ]
    }
   ],
   "source": [
    "# set() or {}\n",
    "# no order {3, 2, 1} outputs as {1, 2, 3}\n",
    "\n",
    "nums = {4,1,6,4}\n",
    "\n",
    "print(nums)\n"
   ]
  },
  {
   "cell_type": "markdown",
   "metadata": {},
   "source": [
    "##### .add()"
   ]
  },
  {
   "cell_type": "code",
   "execution_count": 66,
   "metadata": {},
   "outputs": [
    {
     "name": "stdout",
     "output_type": "stream",
     "text": [
      "{56, 1, 4, 6}\n"
     ]
    }
   ],
   "source": [
    "# set.add()\n",
    "\n",
    "nums.add(56)\n",
    "\n",
    "print(nums)"
   ]
  },
  {
   "cell_type": "markdown",
   "metadata": {},
   "source": [
    "##### .remove()"
   ]
  },
  {
   "cell_type": "code",
   "execution_count": 67,
   "metadata": {},
   "outputs": [
    {
     "name": "stdout",
     "output_type": "stream",
     "text": [
      "{1, 4, 6}\n"
     ]
    }
   ],
   "source": [
    "# removes by value\n",
    "# set.remove()\n",
    "\n",
    "nums.remove(56)\n",
    "\n",
    "print(nums)"
   ]
  },
  {
   "cell_type": "markdown",
   "metadata": {},
   "source": [
    "##### .union() "
   ]
  },
  {
   "cell_type": "code",
   "execution_count": 68,
   "metadata": {},
   "outputs": [
    {
     "name": "stdout",
     "output_type": "stream",
     "text": [
      "{1, 2, 3, 4, 5, 6}\n"
     ]
    }
   ],
   "source": [
    "# Returns a union of two sets, can also use '|' or set.union(set)\n",
    "# joins all numbers, gets rid of duplicates\n",
    "\n",
    "s1 = {1,2,3,4}\n",
    "s2 = {3,4,5,6}\n",
    "\n",
    "s3 = s1.union(s2)\n",
    "\n",
    "# OR \n",
    "\n",
    "s4 = s1 | s2\n",
    "\n",
    "print(s3)"
   ]
  },
  {
   "cell_type": "markdown",
   "metadata": {},
   "source": [
    "##### .intersection()"
   ]
  },
  {
   "cell_type": "code",
   "execution_count": 69,
   "metadata": {},
   "outputs": [
    {
     "name": "stdout",
     "output_type": "stream",
     "text": [
      "{3, 4}\n"
     ]
    }
   ],
   "source": [
    "# Returns an intersection of two sets, can also use '&'\n",
    "# only takes similar elements from both sets\n",
    "\n",
    "s5 = s1 & s2\n",
    "\n",
    "print(s5)"
   ]
  },
  {
   "cell_type": "markdown",
   "metadata": {},
   "source": [
    "##### .difference()"
   ]
  },
  {
   "cell_type": "code",
   "execution_count": 70,
   "metadata": {},
   "outputs": [
    {
     "name": "stdout",
     "output_type": "stream",
     "text": [
      "{1, 2}\n"
     ]
    }
   ],
   "source": [
    "# Returns a set containing all the elements of invoking set that are not in the second set, can also use '-'\n",
    "# only takes values from the first set that are not in the second set\n",
    "# order matters\n",
    "\n",
    "s6 = s1 - s2\n",
    "\n",
    "print(s6)"
   ]
  },
  {
   "cell_type": "markdown",
   "metadata": {},
   "source": [
    "##### .clear()"
   ]
  },
  {
   "cell_type": "code",
   "execution_count": 71,
   "metadata": {},
   "outputs": [
    {
     "name": "stdout",
     "output_type": "stream",
     "text": [
      "set()\n"
     ]
    }
   ],
   "source": [
    "# Empties the whole set\n",
    "# set.clear()\n",
    "\n",
    "s6.clear()\n",
    "\n",
    "print(s6)"
   ]
  },
  {
   "cell_type": "markdown",
   "metadata": {},
   "source": [
    "##### Frozenset <br>\n",
    "<p>Frozen sets are immutable objects that only support methods and operators that produce a result without affecting the frozen set or sets to which they are applied.</p><br><b>Unique & Immutable</b>"
   ]
  },
  {
   "cell_type": "code",
   "execution_count": 72,
   "metadata": {},
   "outputs": [
    {
     "name": "stdout",
     "output_type": "stream",
     "text": [
      "frozenset({1, 2, 3, 4, 5, 6})\n"
     ]
    }
   ],
   "source": [
    "# frozenset([])\n",
    "my_set = frozenset(s3)\n",
    "\n",
    "print(my_set)\n"
   ]
  },
  {
   "cell_type": "markdown",
   "metadata": {},
   "source": [
    "## Modules"
   ]
  },
  {
   "cell_type": "markdown",
   "metadata": {},
   "source": [
    "##### Importing Entire Modules"
   ]
  },
  {
   "cell_type": "code",
   "execution_count": 73,
   "metadata": {},
   "outputs": [
    {
     "name": "stdout",
     "output_type": "stream",
     "text": [
      "3.141592653589793\n",
      "2\n"
     ]
    }
   ],
   "source": [
    "# import or from 'xxx' import *\n",
    "# import math\n",
    "\n",
    "import math\n",
    "\n",
    "print(math.pi)\n",
    "print(math.floor(2.8))"
   ]
  },
  {
   "cell_type": "markdown",
   "metadata": {},
   "source": [
    "##### Importing Methods Only"
   ]
  },
  {
   "cell_type": "code",
   "execution_count": 74,
   "metadata": {},
   "outputs": [
    {
     "name": "stdout",
     "output_type": "stream",
     "text": [
      "3.141592653589793\n",
      "2\n"
     ]
    }
   ],
   "source": [
    "# from 'xxx' import 'xxx'\n",
    "# from math import floor\n",
    "\n",
    "from math import floor, pi\n",
    "\n",
    "print(pi)\n",
    "print(floor(2.8))\n"
   ]
  },
  {
   "cell_type": "markdown",
   "metadata": {},
   "source": [
    "##### Using the 'as' Keyword"
   ]
  },
  {
   "cell_type": "code",
   "execution_count": 75,
   "metadata": {},
   "outputs": [
    {
     "data": {
      "text/plain": [
       "2"
      ]
     },
     "execution_count": 75,
     "metadata": {},
     "output_type": "execute_result"
    }
   ],
   "source": [
    "# from 'xxx' import 'xxx' as 'xxx' or import 'xxx' as 'xxx'\n",
    "# from math import floor as f\n",
    "\n",
    "from math import floor as f\n",
    "\n",
    "f(2.8)"
   ]
  },
  {
   "cell_type": "markdown",
   "metadata": {},
   "source": [
    "##### Creating a Module"
   ]
  },
  {
   "cell_type": "code",
   "execution_count": null,
   "metadata": {},
   "outputs": [],
   "source": [
    "# %run is only used in jupyter notebook, within VS Code you would use same import syntax as above\n",
    "# %run module.py\n",
    "\n",
    "# import module\n",
    "\n",
    "%run module.py\n",
    "printName('Geo')\n",
    "%\n",
    "\n",
    "\n",
    "# how it would normally look in VS Code\n",
    "# from calculations import printName\n",
    "\n",
    "# printName('Connor')"
   ]
  },
  {
   "cell_type": "markdown",
   "metadata": {},
   "source": [
    "# Exercises"
   ]
  },
  {
   "cell_type": "markdown",
   "metadata": {},
   "source": [
    "### 1) Build a Shopping Cart <br>\n",
    "<p><b>You can use either lists or dictionaries. The program should have the following capabilities:</b><br><br>\n",
    "1) Takes in input <br>\n",
    "2) Stores user input into a dictionary <br>\n",
    "3) User can add or delete items <br>\n",
    "4) User can see current shopping list <br>\n",
    "5) Loops until user 'quits' <br>\n",
    "6) Upon quiting the program, print out all items in the user's list <br>\n",
    "</p>"
   ]
  },
  {
   "cell_type": "code",
   "execution_count": null,
   "metadata": {},
   "outputs": [],
   "source": []
  },
  {
   "cell_type": "code",
   "execution_count": 1,
   "metadata": {},
   "outputs": [
    {
     "name": "stdout",
     "output_type": "stream",
     "text": [
      "Items needed grapes\n",
      "Added grapes. 1 items.\n",
      "Items needed emily\n",
      "Added emily. 2 items.\n",
      "Items needed ass\n",
      "Added ass. 3 items.\n",
      "Items needed DEL\n",
      "Current list :\n",
      "grapes\n",
      "emily\n",
      "ass\n",
      "Which you dont need? GRAPES\n"
     ]
    },
    {
     "ename": "ValueError",
     "evalue": "list.remove(x): x not in list",
     "output_type": "error",
     "traceback": [
      "\u001b[0;31m---------------------------------------------------------------------------\u001b[0m",
      "\u001b[0;31mValueError\u001b[0m                                Traceback (most recent call last)",
      "\u001b[0;32m<ipython-input-1-1d97a77e5f4f>\u001b[0m in \u001b[0;36m<module>\u001b[0;34m\u001b[0m\n\u001b[1;32m     25\u001b[0m         \u001b[0mshow_list\u001b[0m\u001b[0;34m(\u001b[0m\u001b[0;34m)\u001b[0m\u001b[0;34m\u001b[0m\u001b[0;34m\u001b[0m\u001b[0m\n\u001b[1;32m     26\u001b[0m \u001b[0;34m\u001b[0m\u001b[0m\n\u001b[0;32m---> 27\u001b[0;31m         \u001b[0mdelete_from_list\u001b[0m\u001b[0;34m(\u001b[0m\u001b[0;34m)\u001b[0m\u001b[0;34m\u001b[0m\u001b[0;34m\u001b[0m\u001b[0m\n\u001b[0m\u001b[1;32m     28\u001b[0m \u001b[0;34m\u001b[0m\u001b[0m\n\u001b[1;32m     29\u001b[0m         \u001b[0;32mcontinue\u001b[0m\u001b[0;34m\u001b[0m\u001b[0;34m\u001b[0m\u001b[0m\n",
      "\u001b[0;32m<ipython-input-1-1d97a77e5f4f>\u001b[0m in \u001b[0;36mdelete_from_list\u001b[0;34m()\u001b[0m\n\u001b[1;32m     13\u001b[0m \u001b[0;32mdef\u001b[0m \u001b[0mdelete_from_list\u001b[0m\u001b[0;34m(\u001b[0m\u001b[0;34m)\u001b[0m\u001b[0;34m:\u001b[0m\u001b[0;34m\u001b[0m\u001b[0;34m\u001b[0m\u001b[0m\n\u001b[1;32m     14\u001b[0m     \u001b[0mdelete_me\u001b[0m \u001b[0;34m=\u001b[0m \u001b[0minput\u001b[0m\u001b[0;34m(\u001b[0m\u001b[0;34m\"Which you dont need? \"\u001b[0m\u001b[0;34m)\u001b[0m\u001b[0;34m\u001b[0m\u001b[0;34m\u001b[0m\u001b[0m\n\u001b[0;32m---> 15\u001b[0;31m     \u001b[0mshop_cart\u001b[0m\u001b[0;34m.\u001b[0m\u001b[0mremove\u001b[0m\u001b[0;34m(\u001b[0m\u001b[0mdelete_me\u001b[0m\u001b[0;34m)\u001b[0m\u001b[0;34m\u001b[0m\u001b[0;34m\u001b[0m\u001b[0m\n\u001b[0m\u001b[1;32m     16\u001b[0m     \u001b[0mprint\u001b[0m\u001b[0;34m(\u001b[0m\u001b[0;34m\"{} has been removed from the list. You now have {}items\"\u001b[0m\u001b[0;34m.\u001b[0m\u001b[0mformat\u001b[0m\u001b[0;34m(\u001b[0m\u001b[0mdelete_me\u001b[0m\u001b[0;34m,\u001b[0m \u001b[0mlen\u001b[0m\u001b[0;34m(\u001b[0m\u001b[0mshop_cart\u001b[0m\u001b[0;34m)\u001b[0m\u001b[0;34m)\u001b[0m\u001b[0;34m)\u001b[0m\u001b[0;34m\u001b[0m\u001b[0;34m\u001b[0m\u001b[0m\n\u001b[1;32m     17\u001b[0m \u001b[0;34m\u001b[0m\u001b[0m\n",
      "\u001b[0;31mValueError\u001b[0m: list.remove(x): x not in list"
     ]
    }
   ],
   "source": [
    "from IPython.display import clear_output\n",
    "shop_cart = []\n",
    "\n",
    "def show_list():\n",
    "    print(\"Current list :\")\n",
    "    for item in shop_cart:\n",
    "        print(item)\n",
    "\n",
    "def add_to_list(new_food):\n",
    "    shop_cart.append(new_food)\n",
    "    print(\"Added {}. {} items.\".format(new_food, len(shop_cart)))\n",
    "   \n",
    "def delete_from_list():\n",
    "    delete_me = input(\"Which you dont need? \")\n",
    "    shop_cart.remove(delete_me)\n",
    "    print(\"{} has been removed from the list. You now have {}items\".format(delete_me, len(shop_cart)))\n",
    "\n",
    "\n",
    "while True:\n",
    "    new_food = input(\"Items needed \")\n",
    "\n",
    "    if new_food == 'DONE':\n",
    "        break\n",
    "    elif new_food == 'DEL':\n",
    "        show_list()\n",
    "\n",
    "        delete_from_list()\n",
    "\n",
    "        continue\n",
    "    elif new_food == 'SHOW':\n",
    "        show_list()\n",
    "        continue\n",
    "    add_to_list(new_food)\n",
    "\n",
    "show_list()\n",
    "\n"
   ]
  },
  {
   "cell_type": "markdown",
   "metadata": {},
   "source": [
    "### 2) Create a Module in VS Code and Import It into jupyter notebook <br>\n",
    "<p><b>Module should have the following capabilities:</b><br><br>\n",
    "1) Has a function to calculate the square footage of a house <br>\n",
    "    <b>Reminder of Formula: Length X Width == Area<br>\n",
    "        <hr>\n",
    "2) Has a function to calculate the circumference of a circle <br><br>\n",
    "<b>Program in Jupyter Notebook should take in user input and use imported functions to calculate a circle's circumference or a houses square footage</b>\n",
    "</p>"
   ]
  },
  {
   "cell_type": "code",
   "execution_count": null,
   "metadata": {},
   "outputs": [],
   "source": [
    "\n",
    "%run hwday3.py\n",
    "calc_circle('radius')\n",
    "calc_rectangle('width, length')\n",
    "%\n"
   ]
  }
 ],
 "metadata": {
  "kernelspec": {
   "display_name": "Python 3",
   "language": "python",
   "name": "python3"
  },
  "language_info": {
   "codemirror_mode": {
    "name": "ipython",
    "version": 3
   },
   "file_extension": ".py",
   "mimetype": "text/x-python",
   "name": "python",
   "nbconvert_exporter": "python",
   "pygments_lexer": "ipython3",
   "version": "3.7.4"
  }
 },
 "nbformat": 4,
 "nbformat_minor": 2
}
